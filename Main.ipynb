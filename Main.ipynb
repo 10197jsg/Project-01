{
 "cells": [
  {
   "cell_type": "code",
   "execution_count": null,
   "id": "4e683e6c-ca80-47e8-8329-a5ff3bfa4f65",
   "metadata": {},
   "outputs": [],
   "source": []
  }
 ],
 "metadata": {
  "kernelspec": {
   "display_name": "",
   "name": ""
  },
  "language_info": {
   "name": ""
  }
 },
 "nbformat": 4,
 "nbformat_minor": 5
}
