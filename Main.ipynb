{
 "cells": [
  {
   "cell_type": "code",
   "execution_count": 1,
   "id": "4e683e6c-ca80-47e8-8329-a5ff3bfa4f65",
   "metadata": {},
   "outputs": [],
   "source": [
    "import reviews_functions_updated\n",
    "import api_functions"
   ]
  },
  {
   "cell_type": "code",
   "execution_count": 2,
   "id": "ef4371a6",
   "metadata": {},
   "outputs": [],
   "source": [
    "# data = [\n",
    "#     {\"movie_id\": \"tt1375666\", \"reviews_count\": 2500000, \"spoiled_reviews\": 125000},  # Inception\n",
    "#     {\"movie_id\": \"tt0468569\", \"reviews_count\": 2700000, \"spoiled_reviews\": 135000},  # The Dark Knight\n",
    "#     {\"movie_id\": \"tt0816692\", \"reviews_count\": 1800000, \"spoiled_reviews\": 90000},   # Interstellar\n",
    "#     {\"movie_id\": \"tt0133093\", \"reviews_count\": 2000000, \"spoiled_reviews\": 100000},  # The Matrix\n",
    "#     {\"movie_id\": \"tt0110912\", \"reviews_count\": 2200000, \"spoiled_reviews\": 110000},  # Pulp Fiction\n",
    "# ]\n",
    "\n",
    "# df = pd.DataFrame(data)\n"
   ]
  },
  {
   "cell_type": "code",
   "execution_count": 3,
   "id": "8550b888",
   "metadata": {},
   "outputs": [
    {
     "name": "stdout",
     "output_type": "stream",
     "text": [
      "is_spoiler  False  True \n",
      "movie_id                \n",
      "tt0012349      78     26\n",
      "tt0015864      89     39\n",
      "tt0017136     264     73\n",
      "tt0017925     142     50\n",
      "tt0018455     115     63\n",
      "...           ...    ...\n",
      "tt6048596      52     23\n",
      "tt6294822       9      2\n",
      "tt6868216       8      5\n",
      "tt7608418      31      8\n",
      "tt7608534      11      7\n",
      "\n",
      "[1572 rows x 2 columns]\n"
     ]
    }
   ],
   "source": [
    "movies = reviews_functions_updated.format_reviews_data('IMDB_reviews.csv')"
   ]
  },
  {
   "cell_type": "code",
   "execution_count": 4,
   "id": "a0c0bd47",
   "metadata": {},
   "outputs": [
    {
     "ename": "AttributeError",
     "evalue": "'NoneType' object has no attribute 'iterrows'",
     "output_type": "error",
     "traceback": [
      "\u001b[0;31m---------------------------------------------------------------------------\u001b[0m",
      "\u001b[0;31mAttributeError\u001b[0m                            Traceback (most recent call last)",
      "Cell \u001b[0;32mIn[4], line 1\u001b[0m\n\u001b[0;32m----> 1\u001b[0m movies_w_ratings \u001b[38;5;241m=\u001b[39m api_functions\u001b[38;5;241m.\u001b[39madd_movie_ratings(movies)\n",
      "File \u001b[0;32m~/ih/ih-projects/Project-01/api_functions.py:20\u001b[0m, in \u001b[0;36madd_movie_ratings\u001b[0;34m(movies_df)\u001b[0m\n\u001b[1;32m     16\u001b[0m \u001b[38;5;28;01mdef\u001b[39;00m \u001b[38;5;21madd_movie_ratings\u001b[39m(movies_df):\n\u001b[1;32m     18\u001b[0m     imdb_ratings \u001b[38;5;241m=\u001b[39m []\n\u001b[0;32m---> 20\u001b[0m     \u001b[38;5;28;01mfor\u001b[39;00m index, row \u001b[38;5;129;01min\u001b[39;00m movies_df\u001b[38;5;241m.\u001b[39miterrows():\n\u001b[1;32m     21\u001b[0m         movie_id \u001b[38;5;241m=\u001b[39m row[\u001b[38;5;124m\"\u001b[39m\u001b[38;5;124mmovie_id\u001b[39m\u001b[38;5;124m\"\u001b[39m]\n\u001b[1;32m     22\u001b[0m         params \u001b[38;5;241m=\u001b[39m {\n\u001b[1;32m     23\u001b[0m             \u001b[38;5;124m\"\u001b[39m\u001b[38;5;124mapikey\u001b[39m\u001b[38;5;124m\"\u001b[39m: \u001b[38;5;124m\"\u001b[39m\u001b[38;5;124me89f7fbc\u001b[39m\u001b[38;5;124m\"\u001b[39m ,\n\u001b[1;32m     24\u001b[0m             \u001b[38;5;124m\"\u001b[39m\u001b[38;5;124mi\u001b[39m\u001b[38;5;124m\"\u001b[39m: movie_id \n\u001b[1;32m     25\u001b[0m         }\n",
      "\u001b[0;31mAttributeError\u001b[0m: 'NoneType' object has no attribute 'iterrows'"
     ]
    }
   ],
   "source": [
    "\n",
    "\n",
    "movies_w_ratings = api_functions.add_movie_ratings(movies)"
   ]
  }
 ],
 "metadata": {
  "kernelspec": {
   "display_name": "base",
   "language": "python",
   "name": "python3"
  },
  "language_info": {
   "codemirror_mode": {
    "name": "ipython",
    "version": 3
   },
   "file_extension": ".py",
   "mimetype": "text/x-python",
   "name": "python",
   "nbconvert_exporter": "python",
   "pygments_lexer": "ipython3",
   "version": "3.12.7"
  }
 },
 "nbformat": 4,
 "nbformat_minor": 5
}
