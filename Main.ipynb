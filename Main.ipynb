{
 "cells": [
  {
   "cell_type": "code",
   "execution_count": 8,
   "id": "4e683e6c-ca80-47e8-8329-a5ff3bfa4f65",
   "metadata": {},
   "outputs": [],
   "source": [
    "import reviews_functions\n",
    "import api_functions"
   ]
  },
  {
   "cell_type": "code",
   "execution_count": null,
   "id": "ef4371a6",
   "metadata": {},
   "outputs": [],
   "source": [
    "# data = [\n",
    "#     {\"movie_id\": \"tt1375666\", \"reviews_count\": 2500000, \"spoiled_reviews\": 125000},  # Inception\n",
    "#     {\"movie_id\": \"tt0468569\", \"reviews_count\": 2700000, \"spoiled_reviews\": 135000},  # The Dark Knight\n",
    "#     {\"movie_id\": \"tt0816692\", \"reviews_count\": 1800000, \"spoiled_reviews\": 90000},   # Interstellar\n",
    "#     {\"movie_id\": \"tt0133093\", \"reviews_count\": 2000000, \"spoiled_reviews\": 100000},  # The Matrix\n",
    "#     {\"movie_id\": \"tt0110912\", \"reviews_count\": 2200000, \"spoiled_reviews\": 110000},  # Pulp Fiction\n",
    "# ]\n",
    "\n",
    "# df = pd.DataFrame(data)\n"
   ]
  },
  {
   "cell_type": "code",
   "execution_count": null,
   "id": "8550b888",
   "metadata": {},
   "outputs": [],
   "source": [
    "movies = reviews_functions.format_reviews_data('df-imported_IMDB_reviews.csv')"
   ]
  },
  {
   "cell_type": "code",
   "execution_count": null,
   "id": "a0c0bd47",
   "metadata": {},
   "outputs": [],
   "source": [
    "\n",
    "\n",
    "movies_w_ratings = api_functions.add_movie_ratings(movies)"
   ]
  },
  {
   "cell_type": "code",
   "execution_count": null,
   "id": "f3c563ad",
   "metadata": {},
   "outputs": [],
   "source": []
  }
 ],
 "metadata": {
  "kernelspec": {
   "display_name": "Python 3",
   "language": "python",
   "name": "python3"
  },
  "language_info": {
   "codemirror_mode": {
    "name": "ipython",
    "version": 3
   },
   "file_extension": ".py",
   "mimetype": "text/x-python",
   "name": "python",
   "nbconvert_exporter": "python",
   "pygments_lexer": "ipython3",
   "version": "3.8.5"
  }
 },
 "nbformat": 4,
 "nbformat_minor": 5
}
