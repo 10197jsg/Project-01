{
 "cells": [
  {
   "cell_type": "code",
   "execution_count": null,
   "id": "4e683e6c-ca80-47e8-8329-a5ff3bfa4f65",
   "metadata": {},
   "outputs": [],
   "source": [
    "import sys\n",
    "import os\n",
    "\n",
    "sys.path.append(os.path.abspath('../src'))\n",
    "\n",
    "import importlib\n",
    "\n",
    "import reviews_functions\n",
    "import api_functions\n",
    "import movies_eda\n",
    "\n",
    "importlib.reload(reviews_functions)\n",
    "importlib.reload(api_functions)\n",
    "importlib.reload(movies_eda)"
   ]
  },
  {
   "cell_type": "code",
   "execution_count": null,
   "id": "8550b888",
   "metadata": {},
   "outputs": [],
   "source": [
    "movies = reviews_functions.format_reviews_data()"
   ]
  },
  {
   "cell_type": "code",
   "execution_count": null,
   "id": "1dc50dec",
   "metadata": {},
   "outputs": [],
   "source": [
    "movies_head = movies.head(50)\n",
    "movies_head"
   ]
  },
  {
   "cell_type": "code",
   "execution_count": null,
   "id": "4dde73b6",
   "metadata": {},
   "outputs": [],
   "source": [
    "movies_w_ratings = api_functions.add_movie_ratings(movies_head)"
   ]
  },
  {
   "cell_type": "code",
   "execution_count": null,
   "id": "3c9eee45",
   "metadata": {},
   "outputs": [],
   "source": [
    "movies_eda.print_scatterplot1(movies_w_ratings)"
   ]
  },
  {
   "cell_type": "code",
   "execution_count": null,
   "id": "63a03f1c",
   "metadata": {},
   "outputs": [],
   "source": [
    "movies_eda.print_scatterplot2(movies_w_ratings)"
   ]
  },
  {
   "cell_type": "code",
   "execution_count": null,
   "id": "e8af6512",
   "metadata": {},
   "outputs": [],
   "source": [
    "movies_eda.print_lineplot(movies_w_ratings)"
   ]
  }
 ],
 "metadata": {
  "kernelspec": {
   "display_name": "Python 3",
   "language": "python",
   "name": "python3"
  },
  "language_info": {
   "codemirror_mode": {
    "name": "ipython",
    "version": 3
   },
   "file_extension": ".py",
   "mimetype": "text/x-python",
   "name": "python",
   "nbconvert_exporter": "python",
   "pygments_lexer": "ipython3",
   "version": "3.8.5"
  }
 },
 "nbformat": 4,
 "nbformat_minor": 5
}
