{
 "cells": [
  {
   "cell_type": "code",
   "execution_count": null,
   "metadata": {},
   "outputs": [
    {
     "name": "stdout",
     "output_type": "stream",
     "text": [
      "is_spoiler  False  True \n",
      "movie_id                \n",
      "tt0012349      78     26\n",
      "tt0015864      89     39\n",
      "tt0017136     264     73\n",
      "tt0017925     142     50\n",
      "tt0018455     115     63\n",
      "...           ...    ...\n",
      "tt6048596      52     23\n",
      "tt6294822       9      2\n",
      "tt6868216       8      5\n",
      "tt7608418      31      8\n",
      "tt7608534      11      7\n",
      "\n",
      "[1572 rows x 2 columns]\n"
     ]
    }
   ],
   "source": [
    "import pandas as pd\n",
    "\n",
    "# define path to JSON files\n",
    "json_reviews = '/Users/juditsig/ih/ih-projects/Project-01/df-imported_IMDB_reviews.json'\n",
    "df_reviews = pd.read_json(json_reviews, lines=True)\n",
    "\n",
    "# grouping by 'movie_id' and 'is_spoiler', then count the reviews\n",
    "movies_grouped = df_reviews.groupby(['movie_id', 'is_spoiler']).count()\n",
    "\n",
    "# pivot the grouped data to transform 'is_spoiler' into columns\n",
    "pivoted_df = movies_grouped['review_text'].unstack(fill_value=0)\n",
    "\n",
    "# print out the pivoted DataFrame\n",
    "print(pivoted_df)"
   ]
  }
 ],
 "metadata": {
  "kernelspec": {
   "display_name": "base",
   "language": "python",
   "name": "python3"
  },
  "language_info": {
   "codemirror_mode": {
    "name": "ipython",
    "version": 3
   },
   "file_extension": ".py",
   "mimetype": "text/x-python",
   "name": "python",
   "nbconvert_exporter": "python",
   "pygments_lexer": "ipython3",
   "version": "3.12.7"
  }
 },
 "nbformat": 4,
 "nbformat_minor": 2
}
